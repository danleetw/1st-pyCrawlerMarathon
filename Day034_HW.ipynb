{
 "cells": [
  {
   "cell_type": "markdown",
   "metadata": {
    "colab_type": "text",
    "id": "I8CoX4R7VoCd"
   },
   "source": [
    "# 反爬：代理伺服器/IP\n",
    "\n",
    "* 了解「IP 黑/白名單」的反爬蟲機制\n",
    "* 「IP 黑/白名單」反爬蟲的因應策略"
   ]
  },
  {
   "cell_type": "markdown",
   "metadata": {
    "colab_type": "text",
    "id": "n-3DZ_r5VoCe"
   },
   "source": [
    "## 作業目標\n",
    "\n",
    "* 目前程式中的 proxy_ips 是手動輸入的，請根據 https://free-proxy-list.net/ 寫一個可自動化抓取可用 Proxy 的 proxy_ips。\n",
    "\n",
    "\n"
   ]
  },
  {
   "cell_type": "code",
   "execution_count": 42,
   "metadata": {
    "colab": {},
    "colab_type": "code",
    "id": "iny-9heBVoCf"
   },
   "outputs": [
    {
     "name": "stdout",
     "output_type": "stream",
     "text": [
      "['185.34.17.248:58137', '93.88.107.125:34626', '103.79.183.157:53281', '178.57.89.142:40208', '118.174.232.60:34772', '118.173.232.219:57499', '181.129.70.82:30634', '36.89.189.77:44658', '200.110.174.130:8080', '46.4.96.137:3128', '150.109.32.166:80', '5.141.244.52:44087', '185.244.192.119:6112', '84.75.182.1:80', '84.22.59.202:8080', '117.197.102.194:80', '46.235.53.26:3128', '117.197.102.193:80', '185.128.37.2:8080', '182.48.87.170:8080', '45.236.131.173:8080', '150.242.182.98:80', '27.111.38.177:39850', '138.94.255.227:80', '118.163.55.229:60719', '35.194.136.34:3128', '202.29.237.210:3128', '137.59.161.163:32372', '196.41.101.46:8080', '179.40.75.1:38736', '181.143.79.154:48749', '157.119.117.22:35522', '103.216.48.83:8080', '164.115.43.209:80', '124.41.240.207:49623', '200.89.174.105:80', '128.199.210.218:8080']\n"
     ]
    }
   ],
   "source": [
    "proxy_ips = []\n",
    "\n",
    "'''\n",
    "Your Code\n",
    "'''\n",
    "\n",
    "from bs4 import BeautifulSoup\n",
    "import requests\n",
    "import random\n",
    "import re\n",
    "\n",
    "url='https://free-proxy-list.net/'\n",
    "resp = requests.get(url)\n",
    "soup = BeautifulSoup(resp.text, 'html5lib')\n",
    "proxy_infos=soup.find(\"tbody\").find_all(\"tr\")\n",
    "\n",
    "\n",
    "proxy_dict={0:'ip',1:'port',2:'contry',4:'anonymous',5:'https'}\n",
    "#for i in proxy_dict:\n",
    "#    print(i)\n",
    "\n",
    "proxy_ips=list()\n",
    "for proxy_info in proxy_infos:\n",
    "    #print(proxy_info)\n",
    "    proxy=dict()\n",
    "    proxys=proxy_info.find_all(\"td\")\n",
    "    for i in proxy_dict:\n",
    "        proxy[proxy_dict[i]]=proxys[i].text\n",
    "    if proxy['anonymous']=='anonymous':\n",
    "        proxy_ips.append(proxy['ip']+':'+proxy['port']) \n",
    "    #else:\n",
    "    #    print(proxy['anonymous'])\n",
    "    #for proxy in proxys:\n",
    "    #    print(proxy.text)\n",
    "    #print(proxy)\n",
    "       \n",
    "#proxy_ips = ['51.158.99.51:8811', '51.158.111.229:8811', '206.189.235.156:80', '68.183.105.214:8080']    \n",
    "print(proxy_ips)"
   ]
  },
  {
   "cell_type": "code",
   "execution_count": 21,
   "metadata": {},
   "outputs": [
    {
     "data": {
      "text/plain": [
       "False"
      ]
     },
     "execution_count": 21,
     "metadata": {},
     "output_type": "execute_result"
    }
   ],
   "source": [
    "def IsIp(ipstr):\n",
    "    regex = '(([0-1][0-9][0-9]|2[0-4][0-9]|25[0-5])\\.([0-1][0-9][0-9]|2[0-4][0-9]|25[0-5])\\.([0-1][0-9][0-9]|2[0-4][0-9]|25[0-5])\\.([0-1][0-9][0-9]|2[0-4][0-9]|25[0-5]|[0-9][0-9]|[0-9]))'\n",
    "    pattern = re.compile(regex)\n",
    "    if re.search(pattern, ipstr):\n",
    "        return True\n",
    "    else:\n",
    "        return False\n",
    "    \n",
    "IsIp(\"255.1.1.1\")    "
   ]
  },
  {
   "cell_type": "code",
   "execution_count": 38,
   "metadata": {
    "colab": {},
    "colab_type": "code",
    "id": "75dIsHjiVoCi"
   },
   "outputs": [
    {
     "name": "stdout",
     "output_type": "stream",
     "text": [
      "Use 5.141.244.52:44087\n",
      "Use Proxy 5.141.244.52:44087\n",
      "Your IP address: 37.79.244.174\n",
      "Use 5.141.244.52:44087\n",
      "Use Proxy 5.141.244.52:44087\n",
      "Your IP address: 37.79.244.174\n",
      "Use 5.141.244.52:44087\n",
      "Use Proxy 5.141.244.52:44087\n",
      "Your IP address: 37.79.244.174\n",
      "Use 5.141.244.52:44087\n",
      "Use Proxy 5.141.244.52:44087\n",
      "Your IP address: 37.79.244.174\n",
      "Use 5.141.244.52:44087\n",
      "Use Proxy 5.141.244.52:44087\n",
      "Your IP address: 37.79.244.174\n",
      "Use 5.141.244.52:44087\n",
      "Use Proxy 5.141.244.52:44087\n",
      "Your IP address: 37.79.244.174\n",
      "Use 5.141.244.52:44087\n",
      "Use Proxy 5.141.244.52:44087\n",
      "Your IP address: 37.79.244.174\n",
      "Use 5.141.244.52:44087\n",
      "Use Proxy 5.141.244.52:44087\n",
      "Your IP address: 37.79.244.174\n",
      "Use 5.141.244.52:44087\n",
      "Use Proxy 5.141.244.52:44087\n",
      "Your IP address: 37.79.244.174\n",
      "Use 5.141.244.52:44087\n",
      "Use Proxy 5.141.244.52:44087\n",
      "Your IP address: 37.79.244.174\n"
     ]
    }
   ],
   "source": [
    "for i in range(10):\n",
    "    ip = random.choice(proxy_ips)\n",
    "    ip='51.158.99.51:8811'\n",
    "    ip='194.183.168.129:31385'\n",
    "    ip='5.141.244.52:44087'\n",
    "    #ip=''\n",
    "\n",
    "    try:\n",
    "        if ip!='':\n",
    "            print('Use Proxy', ip)\n",
    "            resp = requests.get('http://ip.filefab.com/index.php',\n",
    "                            proxies={'http': ip, 'https': ip}, timeout=10)\n",
    "        else:\n",
    "            print('Connect Directly')\n",
    "            resp = requests.get('http://ip.filefab.com/index.php',\n",
    "                            timeout=10)\n",
    "        \n",
    "        soup = BeautifulSoup(resp.text, 'html5lib')\n",
    "        print(soup.find('h1', id='ipd').text.strip())\n",
    "    except:\n",
    "        print('Fail')"
   ]
  },
  {
   "cell_type": "code",
   "execution_count": null,
   "metadata": {},
   "outputs": [],
   "source": []
  }
 ],
 "metadata": {
  "colab": {
   "name": "homework.ipynb",
   "provenance": []
  },
  "kernelspec": {
   "display_name": "Python 3",
   "language": "python",
   "name": "python3"
  },
  "language_info": {
   "codemirror_mode": {
    "name": "ipython",
    "version": 3
   },
   "file_extension": ".py",
   "mimetype": "text/x-python",
   "name": "python",
   "nbconvert_exporter": "python",
   "pygments_lexer": "ipython3",
   "version": "3.7.5"
  }
 },
 "nbformat": 4,
 "nbformat_minor": 1
}
