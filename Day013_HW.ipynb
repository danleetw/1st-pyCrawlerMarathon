{
 "cells": [
  {
   "cell_type": "markdown",
   "metadata": {},
   "source": [
    "# PTT 網路爬蟲實作練習\n",
    "\n",
    "\n",
    "* 能夠利用 Request + BeatifulSour 撰寫爬蟲，並存放到合適的資料結構\n"
   ]
  },
  {
   "cell_type": "markdown",
   "metadata": {},
   "source": [
    "## 作業目標\n",
    "\n",
    "根據範例 ，完成以下問題：\n",
    "\n",
    "* ① 印出最新文章的「作者」「標題」「時間」\n",
    "* ② 印出第一頁所有文章的「作者」「標題」「時間」\n"
   ]
  },
  {
   "cell_type": "markdown",
   "metadata": {},
   "source": [
    "### ① 印出最新文章的「作者」「標題」「時間」"
   ]
  },
  {
   "cell_type": "code",
   "execution_count": 26,
   "metadata": {},
   "outputs": [
    {
     "name": "stdout",
     "output_type": "stream",
     "text": [
      "作者: blue999 (FLY) \n",
      "標題: [花邊]林書豪被看破手腳?中媒:CBA生存比NBA更難 \n",
      "時間: Sun Dec 15 15:22:08 2019\n"
     ]
    }
   ],
   "source": [
    "'''\n",
    "Your Code\n",
    "'''\n",
    "\n",
    "import requests\n",
    "from bs4 import BeautifulSoup\n",
    "\n",
    "url = 'https://www.ptt.cc/bbs/NBA/index.html'\n",
    "r = requests.get(url)\n",
    "\n",
    "soup = BeautifulSoup(r.text, \"html5lib\")\n",
    "\n",
    "for d in soup.find_all(class_=\"title\"):\n",
    "    #print(d.text.replace('\\t', '').replace('\\n', ''))\n",
    "    #try:\n",
    "    if True:    \n",
    "        r = BeautifulSoup(requests.get('https://www.ptt.cc'+d.find('a')['href']).text, \"html5lib\")\n",
    "        \n",
    "        ar=r.find_all(class_='article-meta-value')\n",
    "        #print(ar)\n",
    "        post_info=[]\n",
    "        \n",
    "        for item in ar:\n",
    "            post_info.append(item.text)\n",
    "            \n",
    "        #print(\"Post:\",post_info)    \n",
    "            \n",
    "        \n",
    "        #print('作者: ' + r.find(class_='article-meta-value').text , d.text.replace('\\t', '').replace('\\n', ''))\n",
    "        #print('作者: ' + r.find(class_='article-meta-value').text , d.text.replace('\\t', '').replace('\\n', ''))\n",
    "        break\n",
    "    #except:\n",
    "    #    continue\n",
    "    \n",
    "print(\"作者:\",post_info[0],\"\\n標題:\",post_info[2],\"\\n時間:\",post_info[3])"
   ]
  },
  {
   "cell_type": "markdown",
   "metadata": {},
   "source": [
    "### ② 印出第一頁所有文章的「作者」「標題」「時間」"
   ]
  },
  {
   "cell_type": "code",
   "execution_count": 32,
   "metadata": {},
   "outputs": [
    {
     "name": "stdout",
     "output_type": "stream",
     "text": [
      "作者: blue999 (FLY) \n",
      "標題: [花邊]林書豪被看破手腳?中媒:CBA生存比NBA更難 \n",
      "時間: Sun Dec 15 15:22:08 2019\n",
      "\n",
      "作者: kuluma (墨駒) \n",
      "標題: [情報] WOJ：Doncic腳踝中度扭傷 \n",
      "時間: Sun Dec 15 16:08:37 2019\n",
      "\n",
      "作者: wowoin (wowo) \n",
      "標題: [討論] 077這個傷 \n",
      "時間: Sun Dec 15 16:24:18 2019\n",
      "\n",
      "作者: go190214 (天空之島拉普達) \n",
      "標題: [新聞] 厄齊爾控中國迫害維吾爾 兵工廠仿NBA火箭 \n",
      "時間: Sun Dec 15 16:25:39 2019\n",
      "\n",
      "作者: Vedan (味丹) \n",
      "標題: [公告] 樂透取消及未來不再開啟樂透 \n",
      "時間: Mon Jun 24 15:08:02 2019\n",
      "\n",
      "作者: qazwsx879345 (Rajon Rondo) \n",
      "標題: [公告] 版主上任相關事項 \n",
      "時間: Fri Oct 25 10:44:03 2019\n",
      "\n",
      "作者: JerroLi (銀色小刀) \n",
      "標題: [情報] SEASON Schedule 賽程 December 19–20 \n",
      "時間: Fri Nov 29 00:46:01 2019\n",
      "\n",
      "作者: dragon803 (好想去露營啊~) \n",
      "標題: [公告]是否禁止basketball top 5文章投票開始 \n",
      "時間: Sun Dec  8 23:55:00 2019\n",
      "\n"
     ]
    }
   ],
   "source": [
    "'''\n",
    "Your Code\n",
    "'''\n",
    "url = 'https://www.ptt.cc/bbs/NBA/index.html'\n",
    "r = requests.get(url)\n",
    "\n",
    "soup = BeautifulSoup(r.text, \"html5lib\")\n",
    "\n",
    "for d in soup.find_all(class_=\"title\"):\n",
    "    #print(d.text.replace('\\t', '').replace('\\n', ''))\n",
    "    #try:\n",
    "    if True:    \n",
    "        r = BeautifulSoup(requests.get('https://www.ptt.cc'+d.find('a')['href']).text, \"html5lib\")\n",
    "        \n",
    "        ar=r.find_all(class_='article-meta-value')\n",
    "        #print(ar)\n",
    "        post_info=[]\n",
    "        \n",
    "        for item in ar:\n",
    "            post_info.append(item.text)\n",
    "            \n",
    "        #print(\"Post:\",post_info)    \n",
    "            \n",
    "        \n",
    "        #print('作者: ' + r.find(class_='article-meta-value').text , d.text.replace('\\t', '').replace('\\n', ''))\n",
    "        #print('作者: ' + r.find(class_='article-meta-value').text , d.text.replace('\\t', '').replace('\\n', ''))\n",
    "        if len(post_info)>3:\n",
    "           print(\"作者:\",post_info[0],\"\\n標題:\",post_info[2],\"\\n時間:\",post_info[3])\n",
    "           print()\n",
    "        #break\n",
    "    #except:\n",
    "    #    continue\n",
    "    \n"
   ]
  },
  {
   "cell_type": "markdown",
   "metadata": {},
   "source": [
    "### ③ 試著爬爬看其他版的文章"
   ]
  },
  {
   "cell_type": "code",
   "execution_count": 43,
   "metadata": {},
   "outputs": [],
   "source": [
    "'''\n",
    "Your Code\n",
    "'''\n",
    "url = 'https://www.ptt.cc/lol/index.html'\n",
    "\n",
    "r = requests.get(url)\n",
    "\n",
    "soup = BeautifulSoup(r.text, \"html5lib\")\n",
    "\n",
    "for d in soup.find_all(class_=\"title\"):\n",
    "    #print(d.text.replace('\\t', '').replace('\\n', ''))\n",
    "    #try:\n",
    "    if True:    \n",
    "        r = BeautifulSoup(requests.get('https://www.ptt.cc'+d.find('a')['href']).text, \"html5lib\")\n",
    "        \n",
    "        ar=r.find_all(class_='article-meta-value')\n",
    "        #print(ar)\n",
    "        post_info=[]\n",
    "        \n",
    "        for item in ar:\n",
    "            post_info.append(item.text)\n",
    "            \n",
    "        #print(\"Post:\",post_info)    \n",
    "            \n",
    "        \n",
    "        #print('作者: ' + r.find(class_='article-meta-value').text , d.text.replace('\\t', '').replace('\\n', ''))\n",
    "        #print('作者: ' + r.find(class_='article-meta-value').text , d.text.replace('\\t', '').replace('\\n', ''))\n",
    "        if len(post_info)>3:\n",
    "           print(\"作者:\",post_info[0],\"\\n標題:\",post_info[2],\"\\n時間:\",post_info[3])\n",
    "           print()\n",
    "        #break\n",
    "    #except:\n",
    "    #    continue\n",
    "    \n"
   ]
  },
  {
   "cell_type": "code",
   "execution_count": null,
   "metadata": {},
   "outputs": [],
   "source": []
  }
 ],
 "metadata": {
  "kernelspec": {
   "display_name": "Python 3",
   "language": "python",
   "name": "python3"
  },
  "language_info": {
   "codemirror_mode": {
    "name": "ipython",
    "version": 3
   },
   "file_extension": ".py",
   "mimetype": "text/x-python",
   "name": "python",
   "nbconvert_exporter": "python",
   "pygments_lexer": "ipython3",
   "version": "3.7.5"
  }
 },
 "nbformat": 4,
 "nbformat_minor": 2
}
