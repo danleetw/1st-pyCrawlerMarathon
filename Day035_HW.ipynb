{
 "cells": [
  {
   "cell_type": "markdown",
   "metadata": {},
   "source": [
    "# 加速：多線程爬蟲\n",
    "\n",
    "\n",
    "\n",
    "* 了解知乎 API 使用方式與回傳內容\n",
    "* 撰寫程式存取 API 且添加標頭"
   ]
  },
  {
   "cell_type": "markdown",
   "metadata": {},
   "source": [
    "## 作業目標\n",
    "\n",
    "* 找一個之前實作過的爬蟲改用多線程改寫，比較前後時間的差異。\n",
    "\n",
    "\n",
    "\n"
   ]
  },
  {
   "cell_type": "code",
   "execution_count": 1,
   "metadata": {},
   "outputs": [
    {
     "data": {
      "text/plain": [
       "'\\nYour Code\\n'"
      ]
     },
     "execution_count": 1,
     "metadata": {},
     "output_type": "execute_result"
    }
   ],
   "source": [
    "'''\n",
    "Your Code\n",
    "'''"
   ]
  },
  {
   "cell_type": "code",
   "execution_count": 30,
   "metadata": {},
   "outputs": [
    {
     "name": "stdout",
     "output_type": "stream",
     "text": [
      "['188.170.122.155:8080', '78.38.27.64:8080', '94.130.20.85:31288', '150.242.182.98:80', '185.244.192.119:6112', '103.213.236.11:82', '150.95.131.174:3128', '201.55.164.177:3128', '200.255.122.170:8080', '31.147.227.19:48925', '82.114.241.138:8080', '84.22.59.202:8080', '82.81.169.142:80', '201.151.79.30:8080', '203.202.245.58:80', '165.227.215.62:8080', '139.59.99.63:3128', '198.199.120.102:3128', '87.249.205.157:8080', '138.197.157.44:8080', '207.154.231.216:3128', '207.154.231.211:3128', '192.241.245.207:3128', '138.197.157.60:3128', '67.205.146.29:8080', '188.226.141.211:3128', '151.232.72.13:80', '151.232.72.15:80', '82.196.11.105:8080', '138.68.24.145:8080', '151.232.72.14:80', '151.232.72.19:80', '139.59.53.105:3128', '67.205.132.241:8080', '176.9.119.170:8080', '67.205.174.209:3128', '151.232.72.18:80', '88.198.24.108:8080', '207.154.231.212:8080', '88.198.50.103:8080', '207.154.231.213:8080', '188.166.83.17:3128', '91.205.218.64:80', '188.166.83.20:3128', '188.166.83.13:3128', '139.59.101.223:8080', '151.232.72.12:80', '78.36.140.201:8080', '151.232.72.17:80', '151.232.72.20:80', '45.236.131.173:8080', '140.227.176.104:80', '45.55.27.15:8080', '200.89.178.211:8080', '176.9.75.42:8080', '174.138.54.49:8080', '151.232.72.21:80']\n"
     ]
    }
   ],
   "source": [
    "proxy_ips = []\n",
    "\n",
    "'''\n",
    "Your Code\n",
    "'''\n",
    "\n",
    "from bs4 import BeautifulSoup\n",
    "import requests\n",
    "import random\n",
    "import re\n",
    "import _thread\n",
    "\n",
    "url='https://free-proxy-list.net/'\n",
    "resp = requests.get(url)\n",
    "soup = BeautifulSoup(resp.text, 'html5lib')\n",
    "proxy_infos=soup.find(\"tbody\").find_all(\"tr\")\n",
    "\n",
    "\n",
    "proxy_dict={0:'ip',1:'port',2:'contry',4:'anonymous',5:'https'}\n",
    "#for i in proxy_dict:\n",
    "#    print(i)\n",
    "\n",
    "proxy_ips=list()\n",
    "for proxy_info in proxy_infos:\n",
    "    #print(proxy_info)\n",
    "    proxy=dict()\n",
    "    proxys=proxy_info.find_all(\"td\")\n",
    "    for i in proxy_dict:\n",
    "        proxy[proxy_dict[i]]=proxys[i].text\n",
    "    if proxy['anonymous']=='anonymous':\n",
    "        proxy_ips.append(proxy['ip']+':'+proxy['port']) \n",
    "    #else:\n",
    "    #    print(proxy['anonymous'])\n",
    "    #for proxy in proxys:\n",
    "    #    print(proxy.text)\n",
    "    #print(proxy)\n",
    "       \n",
    "#proxy_ips = ['51.158.99.51:8811', '51.158.111.229:8811', '206.189.235.156:80', '68.183.105.214:8080']    \n",
    "print(proxy_ips)"
   ]
  },
  {
   "cell_type": "code",
   "execution_count": 33,
   "metadata": {},
   "outputs": [
    {
     "name": "stdout",
     "output_type": "stream",
     "text": [
      "Use Proxy 87.249.205.157:8080, Fail!('NoneType' object has no attribute 'text')\n",
      "Use Proxy 67.205.174.209:3128, Surcess!Your IP address: 67.205.174.209\n",
      "Use Proxy 165.227.215.62:8080, Surcess!Your IP address: 165.227.215.62\n",
      "Use Proxy 138.197.157.44:8080, Surcess!Your IP address: 138.197.157.44\n",
      "Use Proxy 138.68.24.145:8080, Surcess!Your IP address: 138.68.24.145\n",
      "Use Proxy 78.36.140.201:8080, Surcess!Your IP address: 78.36.140.201\n",
      "Use Proxy 188.166.83.13:3128, Surcess!Your IP address: 188.166.83.13\n",
      "Use Proxy 151.232.72.20:80, Fail!(HTTPConnectionPool(host='151.232.72.20', port=80): Read timed out. (read timeout=10))\n",
      "Use Proxy 151.232.72.17:80, Fail!(HTTPConnectionPool(host='151.232.72.17', port=80): Read timed out. (read timeout=10))\n",
      "Use Proxy 188.170.122.155:8080, Fail!(HTTPConnectionPool(host='188.170.122.155', port=8080): Max retries exceeded with url: http://ip.filefab.com/index.php (Caused by ProxyError('Cannot connect to proxy.', RemoteDisconnected('Remote end closed connection without response'))))\n"
     ]
    }
   ],
   "source": [
    "def TryProxy(ip):\n",
    "    resu=\"\"\n",
    "    okresu=\"\"\n",
    "    errresu=\"\"\n",
    "    #print(\"#######\\n\",ip,type(ip))\n",
    "    try:\n",
    "        if ip!='':\n",
    "            #print('Use Proxy', ip)\n",
    "            resu='Use Proxy '+str(ip)\n",
    "            resp = requests.get('http://ip.filefab.com/index.php',\n",
    "                            proxies={'http': ip, 'https': ip}, timeout=10)\n",
    "        else:\n",
    "            #print('Connect Directly')\n",
    "            resu='Connect Directly'\n",
    "            resp = requests.get('http://ip.filefab.com/index.php',\n",
    "                            timeout=10)\n",
    "        \n",
    "        soup = BeautifulSoup(resp.text, 'html5lib')\n",
    "        okresu=\" Surcess!\"+soup.find('h1', id='ipd').text.strip()\n",
    "        #h1=soup.find('h1', id='ipd')\n",
    "        #if h1!=None:\n",
    "        #   okresu=' Success! '+ h1.text.strip()\n",
    "        #else:\n",
    "        #   okresu=' Can not Get IP' \n",
    "        #print(\" Surcess!\",soup.find('h1', id='ipd').text.strip())\n",
    "    except Exception as e:\n",
    "        #print(' Err Fail!',str(e))\n",
    "        errresu=' Fail!('+str(e)+\")\"\n",
    "    \n",
    "    resu=resu+\",\"\n",
    "    if errresu!=\"\":\n",
    "        resu=resu+errresu\n",
    "    else:\n",
    "        resu=resu+okresu\n",
    "    \n",
    "    \n",
    "    \n",
    "    print(resu)    \n",
    "\n",
    "for i in range(10):\n",
    "    ip = random.choice(proxy_ips)    \n",
    "#for i in proxy_ips:\n",
    "#    ip = i\n",
    "    #print(ip)\n",
    "    #ip='51.158.99.51:8811'\n",
    "    #ip='194.183.168.129:31385'\n",
    "    #ip='5.141.244.52:44087'\n",
    "    #ip=''\n",
    "    #TryProxy(ip)\n",
    "    _thread.start_new_thread( TryProxy, (ip, ) )\n",
    "    \n"
   ]
  },
  {
   "cell_type": "code",
   "execution_count": null,
   "metadata": {},
   "outputs": [],
   "source": []
  },
  {
   "cell_type": "code",
   "execution_count": null,
   "metadata": {},
   "outputs": [],
   "source": []
  }
 ],
 "metadata": {
  "colab": {
   "name": "homework.ipynb",
   "provenance": []
  },
  "kernelspec": {
   "display_name": "Python 3",
   "language": "python",
   "name": "python3"
  },
  "language_info": {
   "codemirror_mode": {
    "name": "ipython",
    "version": 3
   },
   "file_extension": ".py",
   "mimetype": "text/x-python",
   "name": "python",
   "nbconvert_exporter": "python",
   "pygments_lexer": "ipython3",
   "version": "3.7.5"
  }
 },
 "nbformat": 4,
 "nbformat_minor": 1
}
